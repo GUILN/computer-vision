{
 "cells": [
  {
   "cell_type": "markdown",
   "metadata": {},
   "source": [
    "# Generate input image - Using Canny Edge Detection"
   ]
  },
  {
   "cell_type": "code",
   "execution_count": null,
   "metadata": {},
   "outputs": [],
   "source": [
    "import numpy as np\n",
    "import cv2 as cv\n",
    "from os.path import join as path_join\n",
    "from matplotlib import pyplot as plt"
   ]
  },
  {
   "cell_type": "code",
   "execution_count": null,
   "metadata": {},
   "outputs": [],
   "source": [
    "def get_otsu(image):\n",
    "    image=cv.cvtColor(image,cv.COLOR_BGR2GRAY)\n",
    "    se=cv.getStructuringElement(cv.MORPH_RECT , (8,8))\n",
    "    bg=cv.morphologyEx(image, cv.MORPH_DILATE, se)\n",
    "    out_gray=cv.divide(image, bg, scale=255)\n",
    "    out_binary=cv.threshold(out_gray, 0, 255, cv.THRESH_OTSU )[1] \n",
    "    return out_binary\n"
   ]
  },
  {
   "cell_type": "code",
   "execution_count": null,
   "metadata": {},
   "outputs": [],
   "source": [
    "def threshold(img, threshold):\n",
    "    img=cv.cvtColor(img,cv.COLOR_BGR2GRAY)\n",
    "    ret,thresh1 = cv.threshold(img,threshold,255,cv.THRESH_BINARY)\n",
    "    return thresh1"
   ]
  },
  {
   "cell_type": "code",
   "execution_count": null,
   "metadata": {},
   "outputs": [],
   "source": [
    "def fast_nlmean_denoiser(img):\n",
    "    dst = cv.fastNlMeansDenoisingColored(img,None,10,10,7,21)\n",
    "    return dst"
   ]
  },
  {
   "cell_type": "code",
   "execution_count": null,
   "metadata": {},
   "outputs": [],
   "source": [
    "def extract_borders(file_path: str, apply_denoiser=True):\n",
    "    img = cv.imread(file_path)\n",
    "    assert img is not None, \"file could not be read, check with os.path.exists()\"\n",
    "    if apply_denoiser:\n",
    "        img = fast_nlmean_denoiser(img)\n",
    "    edges = cv.Canny(img,128,200)\n",
    "    #_, contours = cv.findContours(edges, cv.RETR_EXTERNAL, cv.CHAIN_APPROX_NONE)\n",
    "    return img, edges"
   ]
  },
  {
   "cell_type": "code",
   "execution_count": null,
   "metadata": {},
   "outputs": [],
   "source": [
    "PATCHES_FOLDER = \"../data/extracted_patches\"\n"
   ]
  },
  {
   "cell_type": "code",
   "execution_count": null,
   "metadata": {},
   "outputs": [],
   "source": [
    "IMAGE_FILE = path_join(PATCHES_FOLDER, \"candidate_4.png\")"
   ]
  },
  {
   "cell_type": "code",
   "execution_count": null,
   "metadata": {},
   "outputs": [],
   "source": [
    "image = cv.imread(IMAGE_FILE)\n",
    "otsu = get_otsu(image)\n",
    "ada_th = fast_nlmean_denoiser(image)\n",
    "#fast_nl_mean_and_otsu = get_otsu(ada_th)\n",
    "\n",
    "plt.subplot(121),plt.imshow(otsu,cmap = 'gray')\n",
    "plt.title('Otsu Image'), plt.xticks([]), plt.yticks([])\n",
    "#plt.subplot(122),plt.imshow(ada_th,cmap = 'gray')\n",
    "#plt.title('Fast NlMean'), plt.xticks([]), plt.yticks([])\n",
    "# plt.subplot(122),plt.imshow(fast_nl_mean_and_otsu,cmap = 'gray')\n",
    "# plt.title('Fast NlMean + Otsu'), plt.xticks([]), plt.yticks([])\n",
    "plt.show()"
   ]
  },
  {
   "cell_type": "code",
   "execution_count": null,
   "metadata": {},
   "outputs": [],
   "source": [
    "# apply threshold to image and plot\n",
    "th = threshold(image, 100)\n",
    "plt.imshow(th, cmap='gray')\n",
    "plt.show()"
   ]
  },
  {
   "cell_type": "code",
   "execution_count": null,
   "metadata": {},
   "outputs": [],
   "source": [
    "# apply canny to thresholded image and plot\n",
    "edges = cv.Canny(th, 128, 200)\n",
    "plt.imshow(edges, cmap='gray')\n",
    "plt.show()"
   ]
  },
  {
   "cell_type": "code",
   "execution_count": null,
   "metadata": {},
   "outputs": [],
   "source": [
    "img, edges = extract_borders(IMAGE_FILE, False)\n",
    "\n",
    "plt.subplot(121),plt.imshow(img,cmap = 'gray')\n",
    "plt.title('Original Image'), plt.xticks([]), plt.yticks([])\n",
    "plt.subplot(122),plt.imshow(edges,cmap = 'gray')\n",
    "plt.title('Edge Image'), plt.xticks([]), plt.yticks([])\n",
    "plt.show()"
   ]
  },
  {
   "cell_type": "code",
   "execution_count": null,
   "metadata": {},
   "outputs": [],
   "source": [
    "img_file = path_join(PATCHES_FOLDER, \"candidate_other_0.png\")\n",
    "img, edges = extract_borders(img_file, False)\n",
    "\n",
    "plt.subplot(121),plt.imshow(img,cmap = 'gray')\n",
    "plt.title('Original Image'), plt.xticks([]), plt.yticks([])\n",
    "plt.subplot(122),plt.imshow(edges,cmap = 'gray')\n",
    "plt.title('Edge Image'), plt.xticks([]), plt.yticks([])\n",
    "plt.show()"
   ]
  },
  {
   "cell_type": "code",
   "execution_count": null,
   "metadata": {},
   "outputs": [],
   "source": [
    "def remove_all_edges():\n",
    "    import os\n",
    "\n",
    "    for f in os.listdir(PATCHES_FOLDER):\n",
    "        if f.endswith(\"_edges.png\"):\n",
    "            os.remove(path_join(PATCHES_FOLDER, f))\n",
    "            \n",
    "remove_all_edges()\n",
    "            "
   ]
  },
  {
   "cell_type": "code",
   "execution_count": null,
   "metadata": {},
   "outputs": [],
   "source": [
    "# do the same as above applying threshold and canny\n",
    "from fix_imports import fix_relative_imports\n",
    "fix_relative_imports()\n",
    "image_files = []\n",
    "# get all images from extracted_patches folder\n",
    "# list all files in extracted patches folder\n",
    "import os\n",
    "from input_image_generator.generator import InputImageGenerator\n",
    "\n",
    "input_image_generator = InputImageGenerator()\n",
    "\n",
    "\n",
    "for f in os.listdir(PATCHES_FOLDER):\n",
    "    if f.endswith(\".png\"):\n",
    "        image_files.append(path_join(PATCHES_FOLDER, f))\n",
    "        \n",
    "for img_file in image_files:\n",
    "    img = cv.imread(img_file)\n",
    "    input_image = input_image_generator.generate_input_image(img)\n",
    "    #th = threshold(img, 100)\n",
    "    #edges = cv.Canny(th, 128, 200)\n",
    "    # plot with color map of white and black\n",
    "     \n",
    "    plt.imshow(input_image, cmap='gray_r')\n",
    "    plt.show()\n",
    "    #plt.imsave(img_file.replace(\".png\", \"_edges.png\"), edges, cmap='gray_r')\n",
    "    \n",
    "    # show the original image\n",
    "    plt.imshow(img)\n",
    "    plt.show()\n"
   ]
  },
  {
   "cell_type": "code",
   "execution_count": null,
   "metadata": {},
   "outputs": [],
   "source": []
  }
 ],
 "metadata": {
  "kernelspec": {
   "display_name": ".venv",
   "language": "python",
   "name": "python3"
  },
  "language_info": {
   "codemirror_mode": {
    "name": "ipython",
    "version": 3
   },
   "file_extension": ".py",
   "mimetype": "text/x-python",
   "name": "python",
   "nbconvert_exporter": "python",
   "pygments_lexer": "ipython3",
   "version": "3.11.2"
  }
 },
 "nbformat": 4,
 "nbformat_minor": 2
}
